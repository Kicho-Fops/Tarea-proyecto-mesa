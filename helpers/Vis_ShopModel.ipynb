{
 "cells": [
  {
   "cell_type": "code",
   "execution_count": 11,
   "metadata": {},
   "outputs": [],
   "source": [
    "import mesa.visualization\n",
    "import sys\n",
    "import os\n",
    "from mesa.visualization import SolaraViz, make_plot_component, make_space_component\n",
    "\n",
    "\n",
    "sys.path.append(os.path.abspath(os.path.join(os.getcwd(), '..')))\n",
    "\n",
    "from model.ShopModel import ShopModel\n",
    "from agent.RobotAgent import RobotAgent\n",
    "from agent.BoxObject import BoxObject\n",
    "from agent.PalletObject import PalletObject\n"
   ]
  },
  {
   "cell_type": "code",
   "execution_count": 12,
   "metadata": {},
   "outputs": [],
   "source": [
    "\n",
    "def agent_portrayal(agent):\n",
    "    portrayal = {\"Shape\": \"circle\",\n",
    "                 \"Filled\": \"true\",\n",
    "                 \"r\": 0.5}\n",
    "    \n",
    "    if type(agent) is RobotAgent:\n",
    "        portrayal[\"Color\"] = \"blue\"\n",
    "        portrayal[\"Layer\"] = 0\n",
    "        portrayal[\"r\"] = 0.5\n",
    "        \n",
    "    elif type(agent) is BoxObject:\n",
    "        portrayal[\"Color\"] = \"brown\"\n",
    "        portrayal[\"Layer\"] = 1\n",
    "        portrayal[\"r\"] = 0.5\n",
    "        \n",
    "    elif type(agent) is PalletObject:\n",
    "        portrayal[\"Color\"] = \"green\"\n",
    "        portrayal[\"Layer\"] = 2\n",
    "        portrayal[\"r\"] = 0.5\n",
    "    \n",
    "    return portrayal\n"
   ]
  },
  {
   "cell_type": "code",
   "execution_count": 13,
   "metadata": {},
   "outputs": [
    {
     "name": "stderr",
     "output_type": "stream",
     "text": [
      "Component react.component(mesa.visualization.components.matplotlib_components.SpaceMatplotlib) raised exception ValueError(\"Unknown space type: <class 'NoneType'>\")\n",
      "Traceback (most recent call last):\n",
      "  File \"c:\\Users\\elchi\\AppData\\Local\\Programs\\Python\\Python311\\Lib\\site-packages\\reacton\\core.py\", line 1707, in _render\n",
      "    root_element = el.component.f(*el.args, **el.kwargs)\n",
      "                   ^^^^^^^^^^^^^^^^^^^^^^^^^^^^^^^^^^^^^\n",
      "  File \"c:\\Users\\elchi\\AppData\\Local\\Programs\\Python\\Python311\\Lib\\site-packages\\mesa\\visualization\\components\\matplotlib_components.py\", line 82, in SpaceMatplotlib\n",
      "    draw_space(\n",
      "  File \"c:\\Users\\elchi\\AppData\\Local\\Programs\\Python\\Python311\\Lib\\site-packages\\mesa\\visualization\\mpl_space_drawing.py\", line 152, in draw_space\n",
      "    raise ValueError(f\"Unknown space type: {type(space)}\")\n",
      "ValueError: Unknown space type: <class 'NoneType'>\n",
      "Component react.component(mesa.visualization.components.matplotlib_components.PlotMatplotlib) raised exception AttributeError(\"type object 'ShopModel' has no attribute 'datacollector'\")\n",
      "Traceback (most recent call last):\n",
      "  File \"c:\\Users\\elchi\\AppData\\Local\\Programs\\Python\\Python311\\Lib\\site-packages\\reacton\\core.py\", line 1707, in _render\n",
      "    root_element = el.component.f(*el.args, **el.kwargs)\n",
      "                   ^^^^^^^^^^^^^^^^^^^^^^^^^^^^^^^^^^^^^\n",
      "  File \"c:\\Users\\elchi\\AppData\\Local\\Programs\\Python\\Python311\\Lib\\site-packages\\mesa\\visualization\\components\\matplotlib_components.py\", line 154, in PlotMatplotlib\n",
      "    df = model.datacollector.get_model_vars_dataframe()\n",
      "         ^^^^^^^^^^^^^^^^^^^\n",
      "AttributeError: type object 'ShopModel' has no attribute 'datacollector'\n"
     ]
    },
    {
     "data": {
      "application/vnd.jupyter.widget-view+json": {
       "model_id": "fbc63a4a412d4714b7efde4183429c50",
       "version_major": 2,
       "version_minor": 0
      },
      "text/html": [
       "Cannot show widget. You probably want to rerun the code cell above (<i>Click in the code cell, and press Shift+Enter <kbd>⇧</kbd>+<kbd>↩</kbd></i>)."
      ],
      "text/plain": [
       "Cannot show ipywidgets in text"
      ]
     },
     "metadata": {},
     "output_type": "display_data"
    }
   ],
   "source": [
    "\n",
    "# Crear la visualizacion\n",
    "\n",
    "width = 10\n",
    "height = 10\n",
    "\n",
    "# grid = mesa.visualization.CanvasGrid(agent_portrayal, width, height, 500, 500)\n",
    "\n",
    "model_params = { \"N\": 5, \"B\": 20, \"P\": 5, \"width\": width, \"height\": height }\n",
    "\n",
    "SpaceGraph = make_space_component(agent_portrayal)\n",
    "GiniPlot = make_plot_component(\"Gini\")\n",
    "\n",
    "page = SolaraViz(\n",
    "    ShopModel,\n",
    "    components=[SpaceGraph, GiniPlot],\n",
    "    model_params=model_params,\n",
    "    name=\"Porfavor sirve :(\",\n",
    ")\n",
    "\n",
    "# server = ModularServer(ShopModel,\n",
    "#                                             [grid],\n",
    "#                                             \"Modelo de tienda\",\n",
    "#                                             {\"N\": 5, \"B\": 20, \"P\": 5, \"width\": width, \"height\": height})\n",
    "    \n",
    "    \n",
    "# server.port = 8521\n",
    "# server.launch()\n",
    "page\n"
   ]
  }
 ],
 "metadata": {
  "kernelspec": {
   "display_name": "Python 3",
   "language": "python",
   "name": "python3"
  },
  "language_info": {
   "codemirror_mode": {
    "name": "ipython",
    "version": 3
   },
   "file_extension": ".py",
   "mimetype": "text/x-python",
   "name": "python",
   "nbconvert_exporter": "python",
   "pygments_lexer": "ipython3",
   "version": "3.11.4"
  }
 },
 "nbformat": 4,
 "nbformat_minor": 2
}
